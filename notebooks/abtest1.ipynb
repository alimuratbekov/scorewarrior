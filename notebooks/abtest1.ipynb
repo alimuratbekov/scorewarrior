{
 "cells": [
  {
   "cell_type": "code",
   "id": "initial_id",
   "metadata": {
    "collapsed": true,
    "ExecuteTime": {
     "end_time": "2025-06-22T05:00:35.328299Z",
     "start_time": "2025-06-22T05:00:35.325097Z"
    }
   },
   "source": [
    "import warnings\n",
    "\n",
    "import pandas as pd\n",
    "import matplotlib.pyplot as plt\n",
    "import seaborn as sns\n",
    "import numpy as np\n",
    "from statsmodels.stats.proportion import proportions_ztest\n",
    "from scipy.stats import ttest_ind, norm\n",
    "\n",
    "from dataset import load_from_csv, remove_payment_duplicates, remove_user_group_duplicates\n",
    "\n",
    "\n",
    "sns.set_style(rc={\"figure.figsize\": (8, 3)})\n",
    "warnings.filterwarnings(\"ignore\")"
   ],
   "outputs": [],
   "execution_count": 1
  },
  {
   "metadata": {
    "ExecuteTime": {
     "end_time": "2025-06-22T05:00:35.610542Z",
     "start_time": "2025-06-22T05:00:35.606724Z"
    }
   },
   "cell_type": "code",
   "source": [
    "def plot_ci(\n",
    "        dataset: pd.DataFrame,\n",
    "        group_var: str,\n",
    "        value_var: str\n",
    "):\n",
    "    plt.figure(figsize=(6, 3))\n",
    "    sns.pointplot(\n",
    "        x=group_var,\n",
    "        y=value_var,\n",
    "        data=dataset,\n",
    "        ci=95,\n",
    "        capsize=0.1,\n",
    "        join=False\n",
    "    )\n",
    "    plt.title(\"CI (95%) by group\")\n",
    "    plt.xlabel(\"Group\")\n",
    "    plt.ylabel(\"Value\")\n",
    "    plt.grid(True, axis=\"y\", linestyle=\"--\", alpha=0.7)\n",
    "    plt.tight_layout()\n",
    "    plt.show()"
   ],
   "id": "b47ecca9552f7399",
   "outputs": [],
   "execution_count": 2
  },
  {
   "metadata": {
    "ExecuteTime": {
     "end_time": "2025-06-22T07:57:49.780319Z",
     "start_time": "2025-06-22T07:57:49.771516Z"
    }
   },
   "cell_type": "code",
   "source": [
    "def compare_conversions(\n",
    "        dataset: pd.DataFrame,\n",
    "        var: str\n",
    "):\n",
    "    arr1 = dataset.query(\"ab_group == 1\")[var].values\n",
    "    arr2 = dataset.query(\"ab_group == 2\")[var].values\n",
    "\n",
    "    stat, pval = proportions_ztest(\n",
    "        count=[arr1.sum(), arr2.sum()],\n",
    "        nobs=[len(arr1), len(arr2)]\n",
    "    )\n",
    "\n",
    "    print(\"Group 1:   {:.3f}\".format(arr1.mean()))\n",
    "    print(\"Group 2:   {:.3f}\".format(arr2.mean()))\n",
    "    print(\"Z-stat:    {:.3f}\".format(stat))\n",
    "    print(\"p-value:   {:.5f}\".format(pval))\n",
    "\n",
    "def compare_means(\n",
    "        dataset: pd.DataFrame,\n",
    "        var: str\n",
    "):\n",
    "    arr1 = dataset.query(\"ab_group == 1\")[var].values\n",
    "    arr2 = dataset.query(\"ab_group == 2\")[var].values\n",
    "\n",
    "    stat, pval = ttest_ind(\n",
    "        a=arr1,\n",
    "        b=arr2,\n",
    "        equal_var=False\n",
    "    )\n",
    "\n",
    "    print(\"Group 1:   {:.3f}\".format(arr1.mean()))\n",
    "    print(\"Group 2:   {:.3f}\".format(arr2.mean()))\n",
    "    print(\"t-stat:    {:.3f}\".format(stat))\n",
    "    print(\"p-value:   {:.5f}\".format(pval))\n",
    "\n",
    "\n",
    "def bootstrap_ratio_diff(arr1, arr2, n_iter=10_000):\n",
    "    n1, n2 = len(arr1), len(arr2)\n",
    "    diffs = []\n",
    "\n",
    "    for _ in range(n_iter):\n",
    "        sample1 = arr1[np.random.choice(n1, size=n1, replace=True)]\n",
    "        sample2 = arr2[np.random.choice(n2, size=n2, replace=True)]\n",
    "\n",
    "        num1, den1 = sample1[:, 0].sum(), sample1[:, 1].sum()\n",
    "        num2, den2 = sample2[:, 0].sum(), sample2[:, 1].sum()\n",
    "\n",
    "        ratio1 = num1 / den1\n",
    "        ratio2 = num2 / den2\n",
    "\n",
    "        diffs.append(ratio2 - ratio1)\n",
    "\n",
    "    diffs = np.array(diffs)\n",
    "\n",
    "    mean_diff = diffs.mean()\n",
    "    std_diff = diffs.std(ddof=1)\n",
    "\n",
    "    z_score = -abs(mean_diff) / std_diff\n",
    "    p_value = 2 * norm.cdf(z_score)\n",
    "\n",
    "    return p_value\n",
    "\n",
    "\n",
    "def compare_ratios(\n",
    "        dataset: pd.DataFrame,\n",
    "        var1: str,\n",
    "        var2: str\n",
    "):\n",
    "    arr1 = dataset.query(\"ab_group == 1\")[[var1, var2]].values\n",
    "    arr2 = dataset.query(\"ab_group == 2\")[[var1, var2]].values\n",
    "\n",
    "    pval = bootstrap_ratio_diff(arr1, arr2)\n",
    "\n",
    "    print(\"Group 1:    {:.3f}\".format(arr1[:, 0].sum() / arr1[:, 1].sum()))\n",
    "    print(\"Group 2:    {:.3f}\".format(arr2[:, 0].sum() / arr2[:, 1].sum()))\n",
    "    print(\"p-value:    {:.5f}\".format(pval))"
   ],
   "id": "dc5a800def5a6a91",
   "outputs": [],
   "execution_count": 121
  },
  {
   "metadata": {},
   "cell_type": "markdown",
   "source": "### Loading & Cleaning Data",
   "id": "e63932a116c43eaa"
  },
  {
   "metadata": {},
   "cell_type": "code",
   "outputs": [],
   "execution_count": 3,
   "source": "ab_df = load_from_csv()",
   "id": "d02cda2449f8c24f"
  },
  {
   "metadata": {},
   "cell_type": "code",
   "outputs": [
    {
     "name": "stdout",
     "output_type": "stream",
     "text": [
      "No. of duplicates:  90\n",
      "No. of payments:    0\n"
     ]
    }
   ],
   "execution_count": 6,
   "source": "ab_df = remove_payment_duplicates(ab_df)",
   "id": "461956f050acef03"
  },
  {
   "metadata": {},
   "cell_type": "code",
   "outputs": [
    {
     "name": "stdout",
     "output_type": "stream",
     "text": [
      "No. of users duplicated across groups:   3\n"
     ]
    }
   ],
   "execution_count": 7,
   "source": "ab_df = remove_user_group_duplicates(ab_df)",
   "id": "9cb37bace1d48b32"
  },
  {
   "metadata": {},
   "cell_type": "code",
   "outputs": [
    {
     "name": "stdout",
     "output_type": "stream",
     "text": [
      "Rows count:         83241\n",
      "Users count:        72850\n"
     ]
    }
   ],
   "execution_count": 9,
   "source": [
    "print(\"Rows count:         {}\".format(ab_df.shape[0]))\n",
    "print(\"Users count:        {}\".format(ab_df[\"user_id\"].nunique()))"
   ],
   "id": "6cd5f1c6c4eadad0"
  },
  {
   "metadata": {},
   "cell_type": "markdown",
   "source": "### Making dataset for statistical analysis",
   "id": "9259e2472e958d55"
  },
  {
   "metadata": {},
   "cell_type": "markdown",
   "source": "All payments are collected within 0-30 days after install",
   "id": "12cca85636c7a7b0"
  },
  {
   "metadata": {},
   "cell_type": "code",
   "outputs": [
    {
     "data": {
      "text/plain": [
       "<Figure size 640x480 with 1 Axes>"
      ],
      "image/png": "[encoded data removed]"
     },
     "metadata": {},
     "output_type": "display_data"
    }
   ],
   "execution_count": 57,
   "source": [
    "((ab_df[\"payment_time\"] - ab_df[\"install_time\"]).dt.days).hist()\n",
    "plt.show()"
   ],
   "id": "bdcf6b44cd2460bd"
  },
  {
   "metadata": {},
   "cell_type": "code",
   "outputs": [],
   "execution_count": 32,
   "source": "ab_df[\"revenue\"] = ab_df[\"amount\"].fillna(0)",
   "id": "e7c7717e92eb8671"
  },
  {
   "metadata": {},
   "cell_type": "code",
   "outputs": [],
   "execution_count": 88,
   "source": [
    "ab_dataset = (\n",
    "    ab_df\n",
    "    .groupby(\"user_id\", as_index=False)\n",
    "    .agg(\n",
    "        payments_count=(\"payment_time\", \"count\"),\n",
    "        total_revenue=(\"revenue\", \"sum\"),\n",
    "        first_payment_time=(\"payment_time\", \"min\")\n",
    "    )\n",
    "    .merge(\n",
    "        ab_df.drop_duplicates(subset=\"user_id\")[[\"user_id\", \"ab_group\", \"install_time\", \"cost\"]],\n",
    "        on=\"user_id\"\n",
    "    )\n",
    ")\n",
    "ab_dataset[\"conversion_to_payment\"] = ab_dataset[\"payments_count\"] > 0\n",
    "ab_dataset[\"days_to_first_payment\"] = (ab_dataset[\"first_payment_time\"] - ab_dataset[\"install_time\"]).dt.days"
   ],
   "id": "a2e65a47032dc192"
  },
  {
   "metadata": {},
   "cell_type": "code",
   "outputs": [],
   "execution_count": 89,
   "source": [
    "ab_stats = (\n",
    "    ab_dataset\n",
    "    .groupby(\"ab_group\", as_index=False)\n",
    "    .agg(\n",
    "        users_count=(\"user_id\", \"nunique\"),\n",
    "        cr_to_payment=(\"conversion_to_payment\", \"mean\"),\n",
    "        avg_days_to_first_payment=(\"days_to_first_payment\", \"mean\"),\n",
    "        avg_payments_count=(\"payments_count\", \"mean\"),\n",
    "        total_payments_count=(\"payments_count\", \"sum\"),\n",
    "        total_revenue=(\"total_revenue\", \"sum\"),\n",
    "        total_cost=(\"cost\", \"sum\"),\n",
    "        avg_cost=(\"cost\", \"mean\")\n",
    "    )\n",
    ")\n",
    "ab_stats[\"avg_payment\"] = ab_stats[\"total_revenue\"] / ab_stats[\"total_payments_count\"]\n",
    "ab_stats[\"arpu\"] = ab_stats[\"total_revenue\"] / ab_stats[\"users_count\"]\n",
    "ab_stats[\"roas\"] = ab_stats[\"total_revenue\"] / ab_stats[\"total_cost\"]"
   ],
   "id": "f9936e5103acb3ec"
  },
  {
   "metadata": {},
   "cell_type": "markdown",
   "source": "Stats by groups",
   "id": "2ee827111142365d"
  },
  {
   "metadata": {},
   "cell_type": "code",
   "outputs": [
    {
     "data": {
      "text/plain": [
       "   ab_group  cr_to_payment  avg_days_to_first_payment  avg_payments_count  \\\n",
       "0         1       0.023540                   4.230317            0.170147   \n",
       "1         2       0.027603                   3.403751            0.166326   \n",
       "\n",
       "   avg_payment        arpu    avg_cost      roas  \n",
       "0  1805.047797  307.124257  699.890862  0.438817  \n",
       "1  1388.886959  231.008093  699.751675  0.330129  "
      ],
      "text/html": [
       "<div>\n",
       "<style scoped>\n",
       "    .dataframe tbody tr th:only-of-type {\n",
       "        vertical-align: middle;\n",
       "    }\n",
       "\n",
       "    .dataframe tbody tr th {\n",
       "        vertical-align: top;\n",
       "    }\n",
       "\n",
       "    .dataframe thead th {\n",
       "        text-align: right;\n",
       "    }\n",
       "</style>\n",
       "<table border=\"1\" class=\"dataframe\">\n",
       "  <thead>\n",
       "    <tr style=\"text-align: right;\">\n",
       "      <th></th>\n",
       "      <th>ab_group</th>\n",
       "      <th>cr_to_payment</th>\n",
       "      <th>avg_days_to_first_payment</th>\n",
       "      <th>avg_payments_count</th>\n",
       "      <th>avg_payment</th>\n",
       "      <th>arpu</th>\n",
       "      <th>avg_cost</th>\n",
       "      <th>roas</th>\n",
       "    </tr>\n",
       "  </thead>\n",
       "  <tbody>\n",
       "    <tr>\n",
       "      <th>0</th>\n",
       "      <td>1</td>\n",
       "      <td>0.023540</td>\n",
       "      <td>4.230317</td>\n",
       "      <td>0.170147</td>\n",
       "      <td>1805.047797</td>\n",
       "      <td>307.124257</td>\n",
       "      <td>699.890862</td>\n",
       "      <td>0.438817</td>\n",
       "    </tr>\n",
       "    <tr>\n",
       "      <th>1</th>\n",
       "      <td>2</td>\n",
       "      <td>0.027603</td>\n",
       "      <td>3.403751</td>\n",
       "      <td>0.166326</td>\n",
       "      <td>1388.886959</td>\n",
       "      <td>231.008093</td>\n",
       "      <td>699.751675</td>\n",
       "      <td>0.330129</td>\n",
       "    </tr>\n",
       "  </tbody>\n",
       "</table>\n",
       "</div>"
      ]
     },
     "execution_count": 90,
     "metadata": {},
     "output_type": "execute_result"
    }
   ],
   "execution_count": 90,
   "source": [
    "ab_stats[[\n",
    "    \"ab_group\",\n",
    "    \"cr_to_payment\",\n",
    "    \"avg_days_to_first_payment\",\n",
    "    \"avg_payments_count\",\n",
    "    \"avg_payment\",\n",
    "    \"arpu\",\n",
    "    \"avg_cost\",\n",
    "    \"roas\"\n",
    "]]"
   ],
   "id": "c76a1df48666b624"
  },
  {
   "metadata": {},
   "cell_type": "markdown",
   "source": "# Statistical tests",
   "id": "93e29b260deccf06"
  },
  {
   "metadata": {},
   "cell_type": "markdown",
   "source": "### CR to payment",
   "id": "f9158ae676ac50db"
  },
  {
   "metadata": {
    "ExecuteTime": {
     "end_time": "2025-06-22T07:29:03.079685Z",
     "start_time": "2025-06-22T07:29:03.067048Z"
    }
   },
   "cell_type": "code",
   "source": [
    "compare_conversions(\n",
    "    dataset=ab_dataset,\n",
    "    var=\"conversion_to_payment\"\n",
    ")"
   ],
   "id": "b59b4c73b63b85ee",
   "outputs": [
    {
     "name": "stdout",
     "output_type": "stream",
     "text": [
      "Group 1:   0.024\n",
      "Group 2:   0.028\n",
      "Z-stat:    -3.472\n",
      "p-value:   0.00052\n"
     ]
    }
   ],
   "execution_count": 93
  },
  {
   "metadata": {},
   "cell_type": "markdown",
   "source": "### No. of payments per user",
   "id": "ce5e057c7b6ddd9d"
  },
  {
   "metadata": {
    "ExecuteTime": {
     "end_time": "2025-06-22T07:29:04.474860Z",
     "start_time": "2025-06-22T07:29:04.459485Z"
    }
   },
   "cell_type": "code",
   "source": [
    "compare_means(\n",
    "    dataset=ab_dataset,\n",
    "    var=\"payments_count\"\n",
    ")"
   ],
   "id": "625d835289fce24f",
   "outputs": [
    {
     "name": "stdout",
     "output_type": "stream",
     "text": [
      "Group 1:   0.170\n",
      "Group 2:   0.166\n",
      "t-stat:    0.283\n",
      "p-value:   0.77705\n"
     ]
    }
   ],
   "execution_count": 94
  },
  {
   "metadata": {},
   "cell_type": "markdown",
   "source": "### Average payment value",
   "id": "705b590bfe6dd130"
  },
  {
   "metadata": {
    "ExecuteTime": {
     "end_time": "2025-06-22T08:02:06.339682Z",
     "start_time": "2025-06-22T08:01:41.136775Z"
    }
   },
   "cell_type": "code",
   "source": [
    "compare_ratios(\n",
    "    dataset=ab_dataset,\n",
    "    var1=\"total_revenue\",\n",
    "    var2=\"payments_count\"\n",
    ")"
   ],
   "id": "b65eb278bbc91bd5",
   "outputs": [
    {
     "name": "stdout",
     "output_type": "stream",
     "text": [
      "Group 1:    1805.048\n",
      "Group 2:    1388.887\n",
      "p-value:    0.04543\n"
     ]
    }
   ],
   "execution_count": 123
  },
  {
   "metadata": {},
   "cell_type": "markdown",
   "source": "### ARPU",
   "id": "14db52a4a46c1962"
  },
  {
   "metadata": {},
   "cell_type": "code",
   "outputs": [
    {
     "name": "stdout",
     "output_type": "stream",
     "text": [
      "Group 1:   307.124\n",
      "Group 2:   231.008\n",
      "t-stat:    1.628\n",
      "p-value:   0.10353\n"
     ]
    }
   ],
   "execution_count": 124,
   "source": [
    "compare_means(\n",
    "    dataset=ab_dataset,\n",
    "    var=\"total_revenue\"\n",
    ")"
   ],
   "id": "4f3e91480a14c1bf"
  },
  {
   "metadata": {},
   "cell_type": "markdown",
   "source": "### ROAS",
   "id": "94009f97519ddca2"
  },
  {
   "metadata": {},
   "cell_type": "code",
   "outputs": [
    {
     "name": "stdout",
     "output_type": "stream",
     "text": [
      "Group 1:    0.439\n",
      "Group 2:    0.330\n",
      "p-value:    0.10833\n"
     ]
    }
   ],
   "execution_count": 120,
   "source": [
    "compare_ratios(\n",
    "    dataset=ab_dataset,\n",
    "    var1=\"total_revenue\",\n",
    "    var2=\"cost\"\n",
    ")"
   ],
   "id": "8f93ecf15404af04"
  },
  {
   "metadata": {},
   "cell_type": "code",
   "outputs": [],
   "execution_count": null,
   "source": "",
   "id": "b1a5ad0f1df09fda"
  },
  {
   "metadata": {},
   "cell_type": "code",
   "outputs": [],
   "execution_count": null,
   "source": "",
   "id": "45da517ab064ba66"
  },
  {
   "metadata": {},
   "cell_type": "code",
   "outputs": [],
   "execution_count": null,
   "source": "",
   "id": "4cbf9ad16228a917"
  },
  {
   "metadata": {},
   "cell_type": "code",
   "outputs": [],
   "execution_count": null,
   "source": "",
   "id": "e267b3fe7a765695"
  }
 ],
 "metadata": {
  "kernelspec": {
   "display_name": "Python 3",
   "language": "python",
   "name": "python3"
  },
  "language_info": {
   "codemirror_mode": {
    "name": "ipython",
    "version": 2
   },
   "file_extension": ".py",
   "mimetype": "text/x-python",
   "name": "python",
   "nbconvert_exporter": "python",
   "pygments_lexer": "ipython2",
   "version": "2.7.6"
  }
 },
 "nbformat": 4,
 "nbformat_minor": 5
}
